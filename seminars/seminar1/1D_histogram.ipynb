{
  "nbformat": 4,
  "nbformat_minor": 0,
  "metadata": {
    "colab": {
      "name": "1D_histogram.ipynb",
      "provenance": []
    },
    "kernelspec": {
      "name": "python3",
      "display_name": "Python 3"
    },
    "language_info": {
      "name": "python"
    }
  },
  "cells": [
    {
      "cell_type": "markdown",
      "source": [
        "## Training model on discrete 1D data"
      ],
      "metadata": {
        "id": "ct1AnX1crxBK"
      }
    },
    {
      "cell_type": "code",
      "execution_count": 24,
      "metadata": {
        "id": "Zm-8xIQzqUcI"
      },
      "outputs": [],
      "source": [
        "import torch\n",
        "\n",
        "import numpy as np\n",
        "import matplotlib.pyplot as plt\n",
        "%matplotlib inline"
      ]
    },
    {
      "cell_type": "markdown",
      "source": [
        "### 1. Generating of 1D Data "
      ],
      "metadata": {
        "id": "N_BJc8tkrjBs"
      }
    },
    {
      "cell_type": "markdown",
      "source": [
        "### Вопрос 1\n",
        "\n",
        "Как зная математическое ожидание $\\mu$ и стандартное отклонение $\\sigma$ распределения , получать семплы из него $\\mathcal{N}(\\mu,\\sigma^{2})$?"
      ],
      "metadata": {
        "id": "gX_rvC0zckxw"
      }
    },
    {
      "cell_type": "code",
      "source": [
        "mu = 0.1*torch.ones(1)\n",
        "std = 2*torch.ones(1)\n",
        "x = mu + std*torch.randn(100)"
      ],
      "metadata": {
        "id": "WptYDOtbQHc0"
      },
      "execution_count": 62,
      "outputs": []
    },
    {
      "cell_type": "code",
      "source": [
        "x"
      ],
      "metadata": {
        "colab": {
          "base_uri": "https://localhost:8080/"
        },
        "id": "X9j-4BENQt6s",
        "outputId": "6597afdb-286a-4dc0-deb2-f141595816e1"
      },
      "execution_count": 64,
      "outputs": [
        {
          "output_type": "execute_result",
          "data": {
            "text/plain": [
              "tensor([ 1.5487, -2.1133,  1.6143,  0.4453,  0.1344,  2.3123,  2.7664, -0.4326,\n",
              "        -1.8682, -0.9319, -1.4333,  0.7801,  1.6060,  4.5341, -1.5975, -0.0430,\n",
              "        -2.3000,  0.6921,  3.1050, -2.2594, -1.6563, -0.6555,  3.9745, -5.2941,\n",
              "        -0.6380,  1.5823, -1.8207,  1.5011,  1.4499, -3.2087,  2.0418, -1.5248,\n",
              "        -1.6138, -4.3225,  0.5161,  3.6834,  1.3778, -2.2198,  1.8132, -2.1061,\n",
              "         2.1571, -1.2595, -3.0131,  1.1720, -0.0144,  1.9751,  3.7404,  2.1737,\n",
              "        -0.9230, -2.5240,  3.1794,  1.2982, -1.3567,  2.3212,  3.0335,  0.6802,\n",
              "        -0.2462,  3.3293,  2.3303, -3.0991,  1.7637,  0.3436, -1.1426,  1.1958,\n",
              "        -2.7983, -1.3413,  0.9054, -1.1921, -2.3196, -0.6170, -1.0994, -4.5979,\n",
              "        -3.0311, -0.8888,  0.1292, -0.7151,  1.8252, -1.7209, -0.1593,  2.2709,\n",
              "        -0.5903, -2.9041, -0.8307,  1.6341, -4.7289,  1.9450, -1.9765, -2.1813,\n",
              "        -0.1856,  4.9264, -0.4215,  0.8921, -1.9401,  0.5773, -2.5428,  1.0039,\n",
              "        -1.2352, -3.9116, -2.0758,  0.5590])"
            ]
          },
          "metadata": {},
          "execution_count": 64
        }
      ]
    },
    {
      "cell_type": "code",
      "source": [
        "def generate_1d_data(count, bins):\n",
        "    np.random.seed(42)\n",
        "\n",
        "    a = 0.2 + 0.05 * np.random.randn(count)\n",
        "    b = 0.6 + 0.15 * np.random.randn(count)\n",
        "\n",
        "    mask = np.random.rand(count) < 0.5\n",
        "\n",
        "    samples = (a * mask + b * (1 - mask)) * (bins - 1)\n",
        "    \n",
        "    data = np.clip(samples.astype('int'), 0.0, (bins - 1))\n",
        "    \n",
        "    split = int(0.8 * count)\n",
        "    train_data, test_data = data[:split], data[split:]\n",
        "    return train_data, test_data"
      ],
      "metadata": {
        "id": "JxuiijNxr5Eu"
      },
      "execution_count": 25,
      "outputs": []
    },
    {
      "cell_type": "code",
      "source": [
        "def plot_1d_data(train_data, test_data):\n",
        "    bins = int(max(test_data.max(), train_data.max()) - min(test_data.min(), train_data.min())) + 1\n",
        "    fig, (ax1, ax2) = plt.subplots(1, 2, figsize=(10, 5))\n",
        "    ax1.set_title('train')\n",
        "    ax1.hist(train_data, bins=bins, density=True)\n",
        "    ax1.set_xlabel('x')\n",
        "    ax2.set_title('test')\n",
        "    ax2.hist(test_data, bins=np.arange(bins), density=True)\n",
        "    plt.show()"
      ],
      "metadata": {
        "id": "v_hAxdWqrvse"
      },
      "execution_count": 26,
      "outputs": []
    },
    {
      "cell_type": "code",
      "source": [
        "BINS = 100\n",
        "COUNT = 5000\n",
        "\n",
        "train_data, test_data = generate_1d_data(COUNT, BINS)\n",
        "plot_1d_data(train_data, test_data)"
      ],
      "metadata": {
        "colab": {
          "base_uri": "https://localhost:8080/",
          "height": 350
        },
        "id": "cmlRB2zFsCub",
        "outputId": "1bcf21a6-ff10-4208-d071-c9de5d3779ec"
      },
      "execution_count": 27,
      "outputs": [
        {
          "output_type": "display_data",
          "data": {
            "image/png": "[encoded data removed]",
            "text/plain": [
              "<Figure size 720x360 with 2 Axes>"
            ]
          },
          "metadata": {
            "needs_background": "light"
          }
        }
      ]
    },
    {
      "cell_type": "markdown",
      "source": [
        "### 2. Model for training"
      ],
      "metadata": {
        "id": "tpUtkHiXsuYd"
      }
    },
    {
      "cell_type": "markdown",
      "source": [
        "### Вопрос 2 \n",
        "\n",
        "- Запрашивает ли градиент переменная проиницилизированная как torch.nn.Parameter(data) ?\n",
        "\n",
        "- Что такое torch.unsqueeze? Отличается ли это от torch.view и если да то чем?\n",
        "\n",
        "- Значения функции Softmax лежат между какими значениями?"
      ],
      "metadata": {
        "id": "1Ra65HK9ughQ"
      }
    },
    {
      "cell_type": "code",
      "source": [
        "class SoftmaxModel(torch.nn.Module):\n",
        "\n",
        "    def __init__(self, bins):\n",
        "        \"\"\"\n",
        "        logits - torch.tensor of shape [bins]\n",
        "\n",
        "        \"\"\"\n",
        "        super().__init__()\n",
        "\n",
        "        self.bins = bins\n",
        "        self.logits = torch.nn.Parameter(torch.zeros(bins)) # torch.Size([bins])\n",
        "\n",
        "    def forward(self, x):\n",
        "        \n",
        "        \"\"\"\n",
        "        x -  torch.tensor of shape [B,1]\n",
        "\n",
        "        \"\"\"\n",
        "        \n",
        "        logits = self.logits.unsqueeze(0).repeat(x.shape[0], 1) # torch.tensor [1,bins] -> [B,bins]\n",
        "     \n",
        "        return logits"
      ],
      "metadata": {
        "id": "fI8P7JhDsdEl"
      },
      "execution_count": 44,
      "outputs": []
    },
    {
      "cell_type": "code",
      "source": [
        "def get_distribution(model):\n",
        "    distribution = torch.nn.functional.softmax(model.logits, dim=0)\n",
        "    return distribution.detach().cpu().numpy()"
      ],
      "metadata": {
        "id": "H-i9D8PquboS"
      },
      "execution_count": 29,
      "outputs": []
    },
    {
      "cell_type": "code",
      "source": [
        "# check that your model outputs right shape\n",
        "model = SoftmaxModel(BINS)\n",
        "assert [10, BINS] == list(model(torch.rand((10,))).size())"
      ],
      "metadata": {
        "id": "aUWuQbiEuu53"
      },
      "execution_count": 45,
      "outputs": []
    },
    {
      "cell_type": "markdown",
      "source": [
        "Let $\\theta = \\{\\theta_{0},...,\\theta_{d}\\}$ : Your model is softmax $ p(k|\\theta) = \\frac{e^{\\theta_{k}}}{\\sum_{l=1}^{d} e^{\\theta_{l}}} $"
      ],
      "metadata": {
        "id": "1295DDyQL7FO"
      }
    },
    {
      "cell_type": "markdown",
      "source": [
        "### 3. Training of model"
      ],
      "metadata": {
        "id": "0VgntR6Wu5x5"
      }
    },
    {
      "cell_type": "markdown",
      "source": [
        "### Вопрос 3\n",
        "\n",
        "- Как будет устроен лосс данной задачи ?\n",
        "- В чем разница между model.train(False) и model.eval()?\n",
        "- Что произойдет если на валидации не написать model.eval()?"
      ],
      "metadata": {
        "id": "jkS3pTq0rCa6"
      }
    },
    {
      "cell_type": "code",
      "source": [
        "[B] - [B/4] [B/4] [B/4] [B/4]\n",
        "model.backward(retain_graph = False)\n",
        "\n",
        "# cuda out of memory"
      ],
      "metadata": {
        "id": "AWd0K38cVZo3"
      },
      "execution_count": null,
      "outputs": []
    },
    {
      "cell_type": "code",
      "source": [
        "def get_cross_entropy_loss(model, x):\n",
        "    # we advice you firstly understand the 1st task\n",
        "    # and then return to this code\n",
        "    # your code\n",
        "    return torch.nn.functional.cross_entropy(model(x), x.long())"
      ],
      "metadata": {
        "id": "gGCqOkFTvBgu"
      },
      "execution_count": 56,
      "outputs": []
    },
    {
      "cell_type": "code",
      "source": [
        "def train_epoch(model, train_loader, optimizer, use_cuda):\n",
        "    model.train()\n",
        "  \n",
        "    train_losses = []\n",
        "    for x in train_loader:\n",
        "        if use_cuda:\n",
        "            x = x.cuda()\n",
        "        loss = get_cross_entropy_loss(model, x)\n",
        "        optimizer.zero_grad()\n",
        "        loss.backward()\n",
        "        optimizer.step()\n",
        "        train_losses.append(loss.item())\n",
        "    return train_losses"
      ],
      "metadata": {
        "id": "7RENGqJZvBjc"
      },
      "execution_count": 57,
      "outputs": []
    },
    {
      "cell_type": "code",
      "source": [
        "def eval_model(model, data_loader, use_cuda):\n",
        "    model.eval()\n",
        "    total_loss = 0\n",
        "    with torch.no_grad():\n",
        "        for x in data_loader:\n",
        "            if use_cuda:\n",
        "                x = x.cuda()\n",
        "            loss = get_cross_entropy_loss(model, x)\n",
        "            total_loss += loss * x.shape[0]\n",
        "        avg_loss = total_loss / len(data_loader.dataset)\n",
        "    return avg_loss.item()\n",
        "\n",
        "\n",
        "def train_model(model, train_loader, test_loader, epochs, lr, use_cuda=False):\n",
        "    if use_cuda:\n",
        "        model = model.cuda()\n",
        "    optimizer = torch.optim.Adam(model.parameters(), lr=lr)\n",
        "\n",
        "    train_losses = []\n",
        "    test_losses = [eval_model(model, test_loader, use_cuda)]\n",
        "    for epoch in range(epochs):\n",
        "        model.train()\n",
        "        train_losses.extend(train_epoch(model, train_loader, optimizer, use_cuda))\n",
        "        test_loss = eval_model(model, test_loader, use_cuda)\n",
        "        test_losses.append(test_loss)\n",
        "\n",
        "    return train_losses, test_losses"
      ],
      "metadata": {
        "id": "CI9F5Crsu7qz"
      },
      "execution_count": 58,
      "outputs": []
    },
    {
      "cell_type": "code",
      "source": [
        "BATCH_SIZE = 128\n",
        "EPOCHS = 100\n",
        "LR = 0.01\n",
        "USE_CUDA = False\n",
        "\n",
        "train_loader = torch.utils.data.DataLoader(train_data, batch_size=BATCH_SIZE, shuffle=True)\n",
        "test_loader = torch.utils.data.DataLoader(test_data, batch_size=BATCH_SIZE)\n",
        "train_losses, test_losses = train_model(model, train_loader, test_loader, epochs=EPOCHS, lr=LR, use_cuda=USE_CUDA)\n",
        "\n",
        "# check that your loss is not too large\n",
        "assert test_losses[-1] < 4.25"
      ],
      "metadata": {
        "id": "O3Jt14RKvJZu"
      },
      "execution_count": 59,
      "outputs": []
    },
    {
      "cell_type": "code",
      "source": [
        "def plot_training_curves(train_losses, test_losses):\n",
        "    plt.figure(figsize=(8, 6))\n",
        "    n_epochs = len(test_losses) - 1\n",
        "    x_train = np.linspace(0, n_epochs, len(train_losses))\n",
        "    x_test = np.arange(n_epochs + 1)\n",
        "\n",
        "    plt.plot(x_train, train_losses, label='train loss')\n",
        "    plt.plot(x_test, test_losses, label='test loss')\n",
        "    plt.legend()\n",
        "    plt.title('training curves')\n",
        "    plt.xlabel('Epoch')\n",
        "    plt.ylabel('NLL')\n",
        "    \n",
        "    \n",
        "def plot_1d_distribution(data, distribution):\n",
        "    size = len(distribution)\n",
        "\n",
        "    plt.figure(figsize=(8, 6))\n",
        "    plt.hist(data, bins=np.arange(size) - 0.5, label='train data', density=True)\n",
        "\n",
        "    x = np.linspace(-0.5, size - 0.5, 1000)\n",
        "    y = distribution.repeat(1000 // size)\n",
        "    plt.plot(x, y, label='learned distribution')\n",
        "\n",
        "    plt.title('learned distribution')\n",
        "    plt.xlabel('x')\n",
        "    plt.ylabel('Probability')\n",
        "    plt.legend()"
      ],
      "metadata": {
        "id": "zE0u3Mo1sdpf"
      },
      "execution_count": 60,
      "outputs": []
    },
    {
      "cell_type": "code",
      "source": [
        "distribution = get_distribution(model)\n",
        "\n",
        "assert isinstance(distribution, np.ndarray)\n",
        "assert distribution.shape == (BINS,)\n",
        "\n",
        "plot_training_curves(train_losses, test_losses)\n",
        "plot_1d_distribution(train_data, distribution)"
      ],
      "metadata": {
        "colab": {
          "base_uri": "https://localhost:8080/",
          "height": 791
        },
        "id": "agAlPzy9vRn7",
        "outputId": "73df5e77-be85-4b73-9eba-90e87a76d3be"
      },
      "execution_count": 61,
      "outputs": [
        {
          "output_type": "display_data",
          "data": {
            "image/png": "[encoded data removed]",
            "text/plain": [
              "<Figure size 576x432 with 1 Axes>"
            ]
          },
          "metadata": {
            "needs_background": "light"
          }
        },
        {
          "output_type": "display_data",
          "data": {
            "image/png": "[encoded data removed]",
            "text/plain": [
              "<Figure size 576x432 with 1 Axes>"
            ]
          },
          "metadata": {
            "needs_background": "light"
          }
        }
      ]
    },
    {
      "cell_type": "code",
      "source": [
        ""
      ],
      "metadata": {
        "id": "0U7D5YVCvTgR"
      },
      "execution_count": null,
      "outputs": []
    }
  ]
}